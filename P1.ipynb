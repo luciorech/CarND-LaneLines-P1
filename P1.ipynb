{
 "cells": [
  {
   "cell_type": "markdown",
   "metadata": {},
   "source": [
    "# **Finding Lane Lines on the Road** \n",
    "***\n",
    "In this project, you will use the tools you learned about in the lesson to identify lane lines on the road.  You can develop your pipeline on a series of individual images, and later apply the result to a video stream (really just a series of images). Check out the video clip \"raw-lines-example.mp4\" (also contained in this repository) to see what the output should look like after using the helper functions below. \n",
    "\n",
    "Once you have a result that looks roughly like \"raw-lines-example.mp4\", you'll need to get creative and try to average and/or extrapolate the line segments you've detected to map out the full extent of the lane lines.  You can see an example of the result you're going for in the video \"P1_example.mp4\".  Ultimately, you would like to draw just one line for the left side of the lane, and one for the right.\n",
    "\n",
    "---\n",
    "Let's have a look at our first image called 'test_images/solidWhiteRight.jpg'.  Run the 2 cells below (hit Shift-Enter or the \"play\" button above) to display the image.\n",
    "\n",
    "**Note** If, at any point, you encounter frozen display windows or other confounding issues, you can always start again with a clean slate by going to the \"Kernel\" menu above and selecting \"Restart & Clear Output\".\n",
    "\n",
    "---"
   ]
  },
  {
   "cell_type": "markdown",
   "metadata": {},
   "source": [
    "**The tools you have are color selection, region of interest selection, grayscaling, Gaussian smoothing, Canny Edge Detection and Hough Tranform line detection.  You  are also free to explore and try other techniques that were not presented in the lesson.  Your goal is piece together a pipeline to detect the line segments in the image, then average/extrapolate them and draw them onto the image for display (as below).  Once you have a working pipeline, try it out on the video stream below.**\n",
    "\n",
    "---\n",
    "\n",
    "<figure>\n",
    " <img src=\"line-segments-example.jpg\" width=\"380\" alt=\"Combined Image\" />\n",
    " <figcaption>\n",
    " <p></p> \n",
    " <p style=\"text-align: center;\"> Your output should look something like this (above) after detecting line segments using the helper functions below </p> \n",
    " </figcaption>\n",
    "</figure>\n",
    " <p></p> \n",
    "<figure>\n",
    " <img src=\"laneLines_thirdPass.jpg\" width=\"380\" alt=\"Combined Image\" />\n",
    " <figcaption>\n",
    " <p></p> \n",
    " <p style=\"text-align: center;\"> Your goal is to connect/average/extrapolate line segments to get output like this</p> \n",
    " </figcaption>\n",
    "</figure>"
   ]
  },
  {
   "cell_type": "code",
   "execution_count": null,
   "metadata": {
    "collapsed": false
   },
   "outputs": [],
   "source": [
    "#importing some useful packages\n",
    "import matplotlib.pyplot as plt\n",
    "import matplotlib.image as mpimg\n",
    "import numpy as np\n",
    "import cv2\n",
    "%matplotlib inline"
   ]
  },
  {
   "cell_type": "code",
   "execution_count": null,
   "metadata": {
    "collapsed": false
   },
   "outputs": [],
   "source": [
    "#reading in an image\n",
    "image = mpimg.imread('test_images/solidWhiteRight.jpg')\n",
    "#printing out some stats and plotting\n",
    "print('This image is:', type(image), 'with dimesions:', image.shape)\n",
    "plt.imshow(image)  #call as plt.imshow(gray, cmap='gray') to show a grayscaled image"
   ]
  },
  {
   "cell_type": "markdown",
   "metadata": {},
   "source": [
    "**Some OpenCV functions (beyond those introduced in the lesson) that might be useful for this project are:**\n",
    "\n",
    "`cv2.inRange()` for color selection  \n",
    "`cv2.fillPoly()` for regions selection  \n",
    "`cv2.line()` to draw lines on an image given endpoints  \n",
    "`cv2.addWeighted()` to coadd / overlay two images\n",
    "`cv2.cvtColor()` to grayscale or change color\n",
    "`cv2.imwrite()` to output images to file  \n",
    "`cv2.bitwise_and()` to apply a mask to an image\n",
    "\n",
    "**Check out the OpenCV documentation to learn about these and discover even more awesome functionality!**"
   ]
  },
  {
   "cell_type": "markdown",
   "metadata": {},
   "source": [
    "Below are some helper functions to help get you started. They should look familiar from the lesson!"
   ]
  },
  {
   "cell_type": "code",
   "execution_count": null,
   "metadata": {
    "collapsed": false
   },
   "outputs": [],
   "source": [
    "import math\n",
    "import collections\n",
    "\n",
    "\n",
    "def grayscale(img):\n",
    "    \"\"\"Applies the Grayscale transform\n",
    "    This will return an image with only one color channel\n",
    "    but NOTE: to see the returned image as grayscale\n",
    "    you should call plt.imshow(gray, cmap='gray')\"\"\"\n",
    "    return cv2.cvtColor(img, cv2.COLOR_BGR2GRAY)\n",
    "\n",
    "\n",
    "def hsv(img):\n",
    "    return cv2.cvtColor(img, cv2.COLOR_BGR2HSV)\n",
    "    \n",
    "    \n",
    "def canny(img, low_threshold, high_threshold):\n",
    "    \"\"\"Applies the Canny transform\"\"\"\n",
    "    return cv2.Canny(img, low_threshold, high_threshold)\n",
    "\n",
    "\n",
    "def gaussian_blur(img, kernel_size):\n",
    "    \"\"\"Applies a Gaussian Noise kernel\"\"\"\n",
    "    return cv2.GaussianBlur(img, (kernel_size, kernel_size), 0)\n",
    "\n",
    "\n",
    "def region_of_interest(img, vertices):\n",
    "    \"\"\"\n",
    "    Applies an image mask.\n",
    "    \n",
    "    Only keeps the region of the image defined by the polygon\n",
    "    formed from `vertices`. The rest of the image is set to black.\n",
    "    \"\"\"\n",
    "    #defining a blank mask to start with\n",
    "    mask = np.zeros_like(img)   \n",
    "    \n",
    "    #defining a 3 channel or 1 channel color to fill the mask with depending on the input image\n",
    "    if len(img.shape) > 2:\n",
    "        channel_count = img.shape[2]  # i.e. 3 or 4 depending on your image\n",
    "        ignore_mask_color = (255,) * channel_count\n",
    "    else:\n",
    "        ignore_mask_color = 255\n",
    "        \n",
    "    #filling pixels inside the polygon defined by \"vertices\" with the fill color    \n",
    "    cv2.fillPoly(mask, vertices, ignore_mask_color)\n",
    "    \n",
    "    #returning the image only where mask pixels are nonzero\n",
    "    masked_image = cv2.bitwise_and(img, mask)\n",
    "    return masked_image\n",
    "\n",
    "LaneLine = collections.namedtuple('LaneLine', ['slope', 'x', 'y'])\n",
    "\n",
    "\n",
    "def draw_lines(img, lines, slope_threshold=0.1, color=[255, 0, 0], thickness=2):\n",
    "    \"\"\"\n",
    "    NOTE: this is the function you might want to use as a starting point once you want to \n",
    "    average/extrapolate the line segments you detect to map out the full\n",
    "    extent of the lane (going from the result shown in raw-lines-example.mp4\n",
    "    to that shown in P1_example.mp4).  \n",
    "    \n",
    "    Think about things like separating line segments by their \n",
    "    slope ((y2-y1)/(x2-x1)) to decide which segments are part of the left\n",
    "    line vs. the right line.  Then, you can average the position of each of \n",
    "    the lines and extrapolate to the top and bottom of the lane.\n",
    "    \n",
    "    This function draws `lines` with `color` and `thickness`.    \n",
    "    Lines are drawn on the image inplace (mutates the image).\n",
    "    If you want to make the lines semi-transparent, think about combining\n",
    "    this function with the weighted_img() function below\n",
    "    \"\"\"\n",
    "    global prev_pos_slopes\n",
    "    global prev_neg_slopes\n",
    "            \n",
    "    pos_slopes = []\n",
    "    neg_slopes = []\n",
    "    for line in lines:\n",
    "        #print('line = ', line)\n",
    "        for x1,y1,x2,y2 in line:\n",
    "            slope = ((y2-y1)/ (x2 - x1))\n",
    "            if (abs(slope) > slope_threshold):\n",
    "                middle_x = ((x2 + x1) * 0.5)\n",
    "                middle_y = ((y2 + y1) * 0.5)\n",
    "                ll = LaneLine(slope, middle_x, middle_y)\n",
    "                #print('slope = ', getattr(ll, 'slope'))\n",
    "                pos_slopes.append(ll) if (slope > 0) else neg_slopes.append(ll)\n",
    "                #cv2.line(img, (x1, y1), (x2, y2), color, thickness)\n",
    "    #return\n",
    "\n",
    "    np_n_slopes = np.array(list(getattr(ll, 'slope') for ll in neg_slopes))\n",
    "    np_p_slopes = np.array(list(getattr(ll, 'slope') for ll in pos_slopes))\n",
    "    neg_std = np.std(np_n_slopes)\n",
    "    pos_std = np.std(np_p_slopes)\n",
    "    neg_median = np.median(np_n_slopes)\n",
    "    pos_median = np.median(np_p_slopes)\n",
    "    #print('neg std dev = ', neg_std, 'pos std dev = ', pos_std)\n",
    "    #print('neg median = ', neg_median, 'pos median = ', pos_median)\n",
    "\n",
    "    img_y = img.shape[0]\n",
    "    img_x = img.shape[1]\n",
    "    \n",
    "    weights = [0.4, 0.3, 0.2, 0.1]\n",
    "    for slopes, prev, median, stddev in [(neg_slopes, prev_neg_slopes, neg_median, neg_std), \\\n",
    "                                         (pos_slopes, prev_pos_slopes, pos_median, pos_std)]:\n",
    "        valid_slopes = list((ll for ll in slopes if abs(getattr(ll, 'slope') - median) < 1 * stddev))\n",
    "        #print('valid_slopes = ', len(valid_slopes))\n",
    "        if len(valid_slopes):\n",
    "            avg_slope = sum(list(getattr(ll, 'slope') for ll in valid_slopes)) / float(len(valid_slopes))\n",
    "            avg_x = sum(list(getattr(ll, 'x') for ll in valid_slopes)) / float(len(valid_slopes))\n",
    "            avg_y = sum(list(getattr(ll, 'y') for ll in valid_slopes)) / float(len(valid_slopes))\n",
    "            #print('avg_slope = ', avg_slope, ' x = ', avg_x, ' y = ', avg_y)\n",
    "            if len(prev):\n",
    "                prev.pop(0)\n",
    "            while len(prev) < len(weights):\n",
    "                prev.append(LaneLine(avg_slope, avg_x, avg_y))\n",
    "        if len(prev):\n",
    "            cur_slope = sum(list(weights[i] * getattr(prev[i], 'slope') for i in range(len(weights))))\n",
    "            cur_x = sum(list(weights[i] * getattr(prev[i], 'x') for i in range(len(weights))))\n",
    "            cur_y = sum(list(weights[i] * getattr(prev[i], 'y') for i in range(len(weights))))\n",
    "            prev[-1] = LaneLine(cur_slope, cur_x, cur_y)\n",
    "            pos_y1 = img_y\n",
    "            pos_x1 = int(((pos_y1 - cur_y) / cur_slope) + cur_x)\n",
    "            pos_y2 = int(img_y * 0.65) # from region of interest\n",
    "            pos_x2 = int(((pos_y2 - cur_y) / cur_slope) + cur_x)\n",
    "            cv2.line(img, (pos_x1, pos_y1), (pos_x2, pos_y2), color, thickness)\n",
    "\n",
    "    \n",
    "def hough_lines(img, rho, theta, threshold, min_line_len, max_line_gap):\n",
    "    \"\"\"\n",
    "    `img` should be the output of a Canny transform.\n",
    "        \n",
    "    Returns an image with hough lines drawn.\n",
    "    \"\"\"\n",
    "    lines = cv2.HoughLinesP(img, rho, theta, threshold, np.array([]), minLineLength=min_line_len, maxLineGap=max_line_gap)\n",
    "    line_img = np.zeros((*img.shape, 3), dtype=np.uint8)\n",
    "    draw_lines(line_img, lines, slope_threshold=0.2, thickness=10)\n",
    "    return line_img\n",
    "\n",
    "# Python 3 has support for cool math symbols.\n",
    "\n",
    "\n",
    "def weighted_img(img, initial_img, α=0.8, β=1., λ=0.):\n",
    "    \"\"\"\n",
    "    `img` is the output of the hough_lines(), An image with lines drawn on it.\n",
    "    Should be a blank image (all black) with lines drawn on it.\n",
    "    \n",
    "    `initial_img` should be the image before any processing.\n",
    "    \n",
    "    The result image is computed as follows:\n",
    "    \n",
    "    initial_img * α + img * β + λ\n",
    "    NOTE: initial_img and img must be the same shape!\n",
    "    \"\"\"\n",
    "    return cv2.addWeighted(initial_img, α, img, β, λ)"
   ]
  },
  {
   "cell_type": "markdown",
   "metadata": {},
   "source": [
    "## Test on Images\n",
    "\n",
    "Now you should build your pipeline to work on the images in the directory \"test_images\"  \n",
    "**You should make sure your pipeline works well on these images before you try the videos.**"
   ]
  },
  {
   "cell_type": "code",
   "execution_count": null,
   "metadata": {
    "collapsed": false
   },
   "outputs": [],
   "source": [
    "import os"
   ]
  },
  {
   "cell_type": "markdown",
   "metadata": {},
   "source": [
    "run your solution on all test_images and make copies into the test_images directory)."
   ]
  },
  {
   "cell_type": "markdown",
   "metadata": {},
   "source": [
    "## Test on Videos\n",
    "\n",
    "You know what's cooler than drawing lanes over images? Drawing lanes over video!\n",
    "\n",
    "We can test our solution on two provided videos:\n",
    "\n",
    "`solidWhiteRight.mp4`\n",
    "\n",
    "`solidYellowLeft.mp4`"
   ]
  },
  {
   "cell_type": "code",
   "execution_count": null,
   "metadata": {
    "collapsed": false
   },
   "outputs": [],
   "source": [
    "# Import everything needed to edit/save/watch video clips\n",
    "from moviepy.editor import VideoFileClip\n",
    "from IPython.display import HTML"
   ]
  },
  {
   "cell_type": "code",
   "execution_count": null,
   "metadata": {
    "collapsed": false
   },
   "outputs": [],
   "source": [
    "def apply_hsv_mask(image):\n",
    "    hsv = cv2.cvtColor(image, cv2.COLOR_BGR2HSV)\n",
    "    w_lower = np.array([0, 0, 210])\n",
    "    w_upper = np.array([180, 255, 255])\n",
    "    mask_w = cv2.inRange(hsv, w_lower, w_upper)\n",
    "\n",
    "    masked = cv2.bitwise_and(image, image, mask=mask_w)\n",
    "    return masked\n",
    "    \n",
    "    \n",
    "def process_image(image):\n",
    "    # NOTE: The output you return should be a color image (3 channel) for processing video below\n",
    "    # TODO: put your pipeline here,blu\n",
    "    # you should return the final output (image with lines are drawn on lanes\n",
    "    \n",
    "    # Defining vertices for region of interest\n",
    "    x_size = image.shape[1]\n",
    "    y_size = image.shape[0]\n",
    "    vertices = np.array([[(x_size * 0.1, y_size), (x_size * 0.45, y_size * 0.6), \\\n",
    "                          (x_size * 0.55, y_size * 0.6), (x_size * 0.9, y_size)]], dtype=np.int32)\n",
    "\n",
    "    trim_image = region_of_interest(image, vertices)\n",
    "    color_sel = apply_hsv_mask(trim_image)\n",
    "\n",
    "    gray = grayscale(color_sel)\n",
    "    gray = cv2.equalizeHist(gray)\n",
    "    blur_gray = gaussian_blur(gray, kernel_size=5)\n",
    "    edges = canny(blur_gray, low_threshold=50, high_threshold=150)\n",
    "    masked_edges = region_of_interest(edges, vertices)\n",
    "\n",
    "    line_image = hough_lines(masked_edges, rho=1, theta = np.pi/180,\n",
    "                             threshold=10, min_line_len=10, max_line_gap=5)\n",
    "    result = weighted_img(line_image, image, α=0.8, β=1., λ=0.)\n",
    "    return result\n",
    "\n",
    "# DEBUG\n",
    "image_list = os.listdir(\"test_images/\")\n",
    "for img_path in image_list:\n",
    "    prev_neg_slopes = []\n",
    "    prev_pos_slopes = []\n",
    "    image = mpimg.imread(\"test_images/%s\" % img_path)\n",
    "    plt.figure()\n",
    "    plt.imshow(image)\n",
    "    plt.figure()\n",
    "    plt.imshow(process_image(image))"
   ]
  },
  {
   "cell_type": "markdown",
   "metadata": {},
   "source": [
    "Let's try the one with the solid white lane on the right first ..."
   ]
  },
  {
   "cell_type": "code",
   "execution_count": null,
   "metadata": {
    "collapsed": false
   },
   "outputs": [],
   "source": [
    "prev_neg_slopes = []\n",
    "prev_pos_slopes = []\n",
    "white_output = 'white.mp4'\n",
    "clip1 = VideoFileClip(\"solidWhiteRight.mp4\")\n",
    "white_clip = clip1.fl_image(process_image) #NOTE: this function expects color images!!\n",
    "%time white_clip.write_videofile(white_output, audio=False)"
   ]
  },
  {
   "cell_type": "markdown",
   "metadata": {},
   "source": [
    "Play the video inline, or if you prefer find the video in your filesystem (should be in the same directory) and play it in your video player of choice."
   ]
  },
  {
   "cell_type": "code",
   "execution_count": null,
   "metadata": {
    "collapsed": false
   },
   "outputs": [],
   "source": [
    "HTML(\"\"\"\n",
    "<video width=\"960\" height=\"540\" controls>\n",
    "  <source src=\"{0}\">\n",
    "</video>\n",
    "\"\"\".format(white_output))"
   ]
  },
  {
   "cell_type": "markdown",
   "metadata": {},
   "source": [
    "**At this point, if you were successful you probably have the Hough line segments drawn onto the road, but what about identifying the full extent of the lane and marking it clearly as in the example video (P1_example.mp4)?  Think about defining a line to run the full length of the visible lane based on the line segments you identified with the Hough Transform.  Modify your draw_lines function accordingly and try re-running your pipeline.**"
   ]
  },
  {
   "cell_type": "markdown",
   "metadata": {},
   "source": [
    "Now for the one with the solid yellow lane on the left. This one's more tricky!"
   ]
  },
  {
   "cell_type": "code",
   "execution_count": null,
   "metadata": {
    "collapsed": false
   },
   "outputs": [],
   "source": [
    "prev_neg_slopes = []\n",
    "prev_pos_slopes = []\n",
    "yellow_output = 'yellow.mp4'\n",
    "clip2 = VideoFileClip('solidYellowLeft.mp4')\n",
    "yellow_clip = clip2.fl_image(process_image)\n",
    "%time yellow_clip.write_videofile(yellow_output, audio=False)"
   ]
  },
  {
   "cell_type": "code",
   "execution_count": null,
   "metadata": {
    "collapsed": false
   },
   "outputs": [],
   "source": [
    "HTML(\"\"\"\n",
    "<video width=\"960\" height=\"540\" controls>\n",
    "  <source src=\"{0}\">\n",
    "</video>\n",
    "\"\"\".format(yellow_output))"
   ]
  },
  {
   "cell_type": "markdown",
   "metadata": {},
   "source": [
    "## Reflections\n",
    "\n",
    "Congratulations on finding the lane lines!  As the final step in this project, we would like you to share your thoughts on your lane finding pipeline... specifically, how could you imagine making your algorithm better / more robust?  Where will your current algorithm be likely to fail?\n",
    "\n",
    "Please add your thoughts below,  and if you're up for making your pipeline more robust, be sure to scroll down and check out the optional challenge video below!\n",
    "\n",
    "## Improvements\n",
    "\n",
    "There are several possible enhancements for this algorithm - it is particularly not robust under challenging light conditions and where constrat between lane markers and the road is poor. It is also very likely to fail if we were to find painted markings in the road (crosswalks, stop and crossing signs, etc).\n",
    "\n",
    "Below a few ideas to improve dealing with light conditions and contrast:\n",
    "\n",
    "### Use lane markers from previous frames (implemented)\n",
    "\n",
    "Since lane markers shouldn't abruptly change direction, it is possible to use lane markers detected in previous frames when calculating the lane markers for the current frame. This provides very good hints under tough conditions, keep the markers transitioning smoothly and deal with possible undetected markers.\n",
    "\n",
    "### Adpative threshols for color selection (implemented and discarded)\n",
    "\n",
    "Use an adaptive threshold for color selection. Since we might end up masking too much or too little information from the image, a possibility is to adjust the masking thresholds based on a minimum percentage of pixels that must be non-black during color selection. The obvious drawback is the extra computational effort required to perform multiple color selection runs per frame. (tested and removed given the extra computational effort compared to additional gain)\n",
    "\n",
    "### Filter outliers (implemented)\n",
    "\n",
    "Use slopes median and standard deviation to discard outliers.\n",
    "\n",
    "### Filter lines with unexpected slopes (implemented)\n",
    "\n",
    "Given the position of the camera in the car, we can assume (when already inside a lane) that the lane markers slopes would fall in a specified range. Although this works well for the kind of scenarios in this lesson, it would probably not work when dealing with other common situation (e.g., a conversion in an intersection where the lanes we're looking for are perpendicular to the car).\n",
    "\n",
    "### Dealing with missing markers\n",
    "\n",
    "If one lane marker is missing (alg. couldn't detect it) we can still use the opposite lane marker as a guide for where we would expect the missing lane marker to be. Not very important since this is also addressed by the weighted average of markers found on previous frames.\n",
    "\n",
    "### Improving slope accuracy\n",
    "\n",
    "When calculating the slope, give a higher weight to points closer to the camera, since those tend to be more accurate.\n",
    "\n",
    "### Use more than one color space for color selection (partially implemented)\n",
    "\n",
    "Use other color spaces in order to perform a more robust color selection. \n",
    "\n",
    "### Other image improvements (partially implemented)\n",
    "\n",
    "In the implemented algorithm we're equalizing the image to improve contrast. Better constrast improvement algorithms could be used to more robustly detect the lane markers.\n"
   ]
  },
  {
   "cell_type": "markdown",
   "metadata": {},
   "source": [
    "## Submission\n",
    "\n",
    "If you're satisfied with your video outputs it's time to submit!  Submit this ipython notebook for review.\n"
   ]
  },
  {
   "cell_type": "markdown",
   "metadata": {
    "collapsed": true
   },
   "source": [
    "## Optional Challenge\n",
    "\n",
    "Try your lane finding pipeline on the video below.  Does it still work?  Can you figure out a way to make it more robust?  If you're up for the challenge, modify your pipeline so it works with this video and submit it along with the rest of your project!"
   ]
  },
  {
   "cell_type": "code",
   "execution_count": null,
   "metadata": {
    "collapsed": false
   },
   "outputs": [],
   "source": [
    "prev_neg_slopes = []\n",
    "prev_pos_slopes = []\n",
    "challenge_output = 'extra.mp4'\n",
    "clip2 = VideoFileClip('challenge.mp4')\n",
    "challenge_clip = clip2.fl_image(process_image)\n",
    "%time challenge_clip.write_videofile(challenge_output, audio=False)"
   ]
  },
  {
   "cell_type": "code",
   "execution_count": null,
   "metadata": {
    "collapsed": false
   },
   "outputs": [],
   "source": [
    "HTML(\"\"\"\n",
    "<video width=\"960\" height=\"540\" controls>\n",
    "  <source src=\"{0}\">\n",
    "</video>\n",
    "\"\"\".format(challenge_output))"
   ]
  },
  {
   "cell_type": "code",
   "execution_count": null,
   "metadata": {
    "collapsed": true
   },
   "outputs": [],
   "source": [
    ""
   ]
  },
  {
   "cell_type": "code",
   "execution_count": null,
   "metadata": {
    "collapsed": true
   },
   "outputs": [],
   "source": [
    ""
   ]
  }
 ],
 "metadata": {
  "anaconda-cloud": {},
  "kernelspec": {
   "display_name": "Python [conda env:py3]",
   "language": "python",
   "name": "conda-env-py3-py"
  },
  "language_info": {
   "codemirror_mode": {
    "name": "ipython",
    "version": 3.0
   },
   "file_extension": ".py",
   "mimetype": "text/x-python",
   "name": "python",
   "nbconvert_exporter": "python",
   "pygments_lexer": "ipython3",
   "version": "3.5.2"
  }
 },
 "nbformat": 4,
 "nbformat_minor": 0
}